{
 "cells": [
  {
   "cell_type": "code",
   "execution_count": 1,
   "metadata": {},
   "outputs": [],
   "source": [
    "import numpy as np\n",
    "import matplotlib.pyplot as plt\n",
    "from scipy.stats import multivariate_normal\n",
    "from massart import addNoise, ground_truth_permutations\n",
    "from Temp2 import LR_PerceptronLike, score\n",
    "\n",
    "\n",
    "d = 10  # data dimension\n",
    "k = 5  # labels\n",
    "\n",
    "# Feature vectors distribution\n",
    "D = multivariate_normal(mean=np.zeros(d), cov=np.identity(d))\n",
    "\n",
    "# Linear Sorting Function\n",
    "W_opt = np.random.rand(k, d)\n",
    "\n",
    "# Train data\n",
    "X_train = D.rvs(size=5000)\n",
    "\n",
    "R_train = ground_truth_permutations(X_train, W_opt)\n",
    "P_train = np.argsort(R_train, axis=1)\n",
    "\n",
    "# Test data\n",
    "X_test = D.rvs(size=1000)\n",
    "\n",
    "R_test = ground_truth_permutations(X_test, W_opt)\n",
    "P_test = np.argsort(R_test, axis=1)"
   ]
  },
  {
   "cell_type": "code",
   "execution_count": 17,
   "metadata": {},
   "outputs": [
    {
     "data": {
      "text/plain": [
       "0.6421"
      ]
     },
     "execution_count": 17,
     "metadata": {},
     "output_type": "execute_result"
    }
   ],
   "source": [
    "# Zero noise\n",
    "score(P_test, LR_PerceptronLike(0.001).fit(X_train, P_train).predict(X_test))"
   ]
  },
  {
   "cell_type": "code",
   "execution_count": 18,
   "metadata": {},
   "outputs": [
    {
     "data": {
      "text/plain": [
       "0.5885"
      ]
     },
     "execution_count": 18,
     "metadata": {},
     "output_type": "execute_result"
    }
   ],
   "source": [
    "# 10% noise\n",
    "R_train_noisy = np.array([addNoise(y, 0.1) for y in R_train])\n",
    "P_train_noisy = np.argsort(R_train_noisy, axis=1)\n",
    "score(P_test, LR_PerceptronLike(0.001).fit(X_train, P_train_noisy).predict(X_test))"
   ]
  },
  {
   "cell_type": "code",
   "execution_count": 22,
   "metadata": {},
   "outputs": [
    {
     "data": {
      "text/plain": [
       "0.5445"
      ]
     },
     "execution_count": 22,
     "metadata": {},
     "output_type": "execute_result"
    }
   ],
   "source": [
    "# 20% noise\n",
    "R_train_noisy = np.array([addNoise(y, 0.2) for y in R_train])\n",
    "P_train_noisy = np.argsort(R_train_noisy, axis=1)\n",
    "score(P_test, LR_PerceptronLike(0.001).fit(X_train, P_train_noisy).predict(X_test))"
   ]
  },
  {
   "cell_type": "code",
   "execution_count": 21,
   "metadata": {},
   "outputs": [
    {
     "data": {
      "text/plain": [
       "0.524"
      ]
     },
     "execution_count": 21,
     "metadata": {},
     "output_type": "execute_result"
    }
   ],
   "source": [
    "# 30% noise\n",
    "R_train_noisy = np.array([addNoise(y, 0.3) for y in R_train])\n",
    "P_train_noisy = np.argsort(R_train_noisy, axis=1)\n",
    "score(P_test, LR_PerceptronLike(0.001).fit(X_train, P_train_noisy).predict(X_test))"
   ]
  }
 ],
 "metadata": {
  "kernelspec": {
   "display_name": "Python 3",
   "language": "python",
   "name": "python3"
  },
  "language_info": {
   "codemirror_mode": {
    "name": "ipython",
    "version": 3
   },
   "file_extension": ".py",
   "mimetype": "text/x-python",
   "name": "python",
   "nbconvert_exporter": "python",
   "pygments_lexer": "ipython3",
   "version": "3.10.9 (tags/v3.10.9:1dd9be6, Dec  6 2022, 20:01:21) [MSC v.1934 64 bit (AMD64)]"
  },
  "orig_nbformat": 4,
  "vscode": {
   "interpreter": {
    "hash": "26de051ba29f2982a8de78e945f0abaf191376122a1563185a90213a26c5da77"
   }
  }
 },
 "nbformat": 4,
 "nbformat_minor": 2
}
