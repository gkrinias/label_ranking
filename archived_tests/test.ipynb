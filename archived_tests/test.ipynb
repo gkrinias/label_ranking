{
 "cells": [
  {
   "cell_type": "code",
   "execution_count": 1,
   "metadata": {},
   "outputs": [],
   "source": [
    "from itertools import permutations\n",
    "import numpy as np\n",
    "\n",
    "def KT(sigma, pi):\n",
    "  res = 0\n",
    "  for i in range(len(pi) - 1):\n",
    "    for j in range(i + 1, len(pi)):\n",
    "      if sigma[i] < sigma[j] and pi[i] > pi[j] or sigma[i] > sigma[j] and pi[i] < pi[j]:\n",
    "        res += 1\n",
    "  return res"
   ]
  },
  {
   "cell_type": "code",
   "execution_count": 18,
   "metadata": {},
   "outputs": [
    {
     "data": {
      "text/plain": [
       "array([ 1,  4,  9, 15, 20, 22, 20, 15,  9,  4,  1], dtype=int64)"
      ]
     },
     "execution_count": 18,
     "metadata": {},
     "output_type": "execute_result"
    }
   ],
   "source": [
    "k = 5\n",
    "perms = list(permutations(range(k)))\n",
    "np.unique([KT(x, range(k)) for x in perms], return_counts=True)[1]"
   ]
  },
  {
   "cell_type": "code",
   "execution_count": 19,
   "metadata": {},
   "outputs": [
    {
     "data": {
      "text/plain": [
       "array([1, 3, 5, 6, 5, 3, 1], dtype=int64)"
      ]
     },
     "execution_count": 19,
     "metadata": {},
     "output_type": "execute_result"
    }
   ],
   "source": [
    "k = 4\n",
    "perms = list(permutations(range(k)))\n",
    "np.unique([KT(x, range(k)) for x in perms], return_counts=True)[1]"
   ]
  },
  {
   "cell_type": "code",
   "execution_count": 26,
   "metadata": {},
   "outputs": [
    {
     "name": "stdout",
     "output_type": "stream",
     "text": [
      "[  1   5  14  29  49  71  90 101 101  90  71  49  29  14   5   1]\n"
     ]
    }
   ],
   "source": [
    "k = 6\n",
    "perms = list(permutations(range(k)))\n",
    "a = np.unique([KT(x, range(k)) for x in perms], return_counts=True)[1]\n",
    "print(a, sep='')"
   ]
  },
  {
   "cell_type": "code",
   "execution_count": null,
   "metadata": {},
   "outputs": [],
   "source": []
  }
 ],
 "metadata": {
  "kernelspec": {
   "display_name": "Python 3",
   "language": "python",
   "name": "python3"
  },
  "language_info": {
   "codemirror_mode": {
    "name": "ipython",
    "version": 3
   },
   "file_extension": ".py",
   "mimetype": "text/x-python",
   "name": "python",
   "nbconvert_exporter": "python",
   "pygments_lexer": "ipython3",
   "version": "3.11.2"
  },
  "orig_nbformat": 4
 },
 "nbformat": 4,
 "nbformat_minor": 2
}
