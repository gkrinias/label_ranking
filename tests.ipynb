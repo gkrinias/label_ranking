{
 "cells": [
  {
   "cell_type": "code",
   "execution_count": 22,
   "metadata": {},
   "outputs": [],
   "source": [
    "from scipy.stats import multivariate_normal\n",
    "from halfspaces import halfspace, accuracy\n",
    "from massart import *\n",
    "\n",
    "d = 30  # data dimension\n",
    "\n",
    "# We select a random halfspace to be the optimal and \n",
    "# ground truth labels are adjusted accordingly.\n",
    "w_opt = np.random.rand(d)\n",
    "\n",
    "# We use the standard d-dimensional normal distribution, for which\n",
    "# U = O(1), R = O(1) and t(epsilon) = O(log(1/epsilon)) (see paper).\n",
    "D = multivariate_normal(mean=np.zeros(d), cov=np.identity(d))  # distribution"
   ]
  },
  {
   "cell_type": "code",
   "execution_count": 23,
   "metadata": {},
   "outputs": [],
   "source": [
    "eta_type = 1\n",
    "eta_max = 0\n",
    "\n",
    "X_train = D.rvs(size=10000000)\n",
    "Y_train_ground_true = ground_truth_labels(X_train, w_opt)\n",
    "Y_train = noisy_labels(X_train, Y_train_ground_true, (eta, eta_max, eta_type) + (w_opt,))\n",
    "\n",
    "# Test accuracy of output halfspace\n",
    "X_test = D.rvs(size=1000000)\n",
    "Y_test = ground_truth_labels(X_test, w_opt)"
   ]
  },
  {
   "cell_type": "code",
   "execution_count": 24,
   "metadata": {},
   "outputs": [
    {
     "name": "stdout",
     "output_type": "stream",
     "text": [
      "d = 30\n",
      "epsilon = 0.15\n",
      "delta = 0.15\n",
      "T = 2278282\n",
      "eta = 0\n",
      "beta = 0.019875474939464826\n",
      "sigma = 0.022356413736083196\n",
      "N = 650\n",
      "\n",
      "Accuracy: 0.830997\n"
     ]
    }
   ],
   "source": [
    "epsilon = 0.15\n",
    "delta = 0.15\n",
    "\n",
    "w_hat_1 = halfspace(\n",
    "  X=X_train,\n",
    "  Y=Y_train,\n",
    "  epsilon=epsilon,\n",
    "  delta=delta,\n",
    "  eta_max=eta_max,\n",
    "  constants=(0.01, 1, 1, 1)\n",
    ")\n",
    "\n",
    "print(\"Accuracy:\", accuracy(w_hat_1, X_test, Y_test))"
   ]
  },
  {
   "cell_type": "code",
   "execution_count": 26,
   "metadata": {},
   "outputs": [
    {
     "name": "stdout",
     "output_type": "stream",
     "text": [
      "d = 30\n",
      "epsilon = 0.1\n",
      "delta = 0.3\n",
      "T = 9371776\n",
      "eta = 0\n",
      "beta = 0.009799644132167128\n",
      "sigma = 0.011142791485145643\n",
      "N = 1605\n",
      "\n",
      "Accuracy: 0.822059\n"
     ]
    }
   ],
   "source": [
    "epsilon = 0.1\n",
    "delta = 0.3\n",
    "\n",
    "w_hat_2 = halfspace(\n",
    "  X=X_train,\n",
    "  Y=Y_train,\n",
    "  epsilon=epsilon,\n",
    "  delta=delta,\n",
    "  eta_max=eta_max,\n",
    "  constants=(0.004, 1, 1, 1)\n",
    ")\n",
    "print(\"Accuracy:\", accuracy(w_hat_2, X_test, Y_test))"
   ]
  },
  {
   "cell_type": "code",
   "execution_count": 27,
   "metadata": {},
   "outputs": [
    {
     "name": "stdout",
     "output_type": "stream",
     "text": [
      "d = 30\n",
      "epsilon = 0.05\n",
      "delta = 0.2\n",
      "T = 5297868\n",
      "eta = 0\n",
      "beta = 0.013033789059625123\n",
      "sigma = 0.003674354692988078\n",
      "N = 6193\n",
      "\n",
      "Accuracy: 0.757251\n"
     ]
    }
   ],
   "source": [
    "epsilon = 0.05\n",
    "delta = 0.2\n",
    "\n",
    "w_hat_3 = halfspace(\n",
    "  X=X_train,\n",
    "  Y=Y_train,\n",
    "  epsilon=epsilon,\n",
    "  delta=delta,\n",
    "  eta_max=eta_max,\n",
    "  constants=(0.00002, 1, 1, 1)\n",
    ")\n",
    "print(\"Accuracy:\", accuracy(w_hat_3, X_test, Y_test))"
   ]
  }
 ],
 "metadata": {
  "kernelspec": {
   "display_name": "Python 3.10.8 64-bit",
   "language": "python",
   "name": "python3"
  },
  "language_info": {
   "codemirror_mode": {
    "name": "ipython",
    "version": 3
   },
   "file_extension": ".py",
   "mimetype": "text/x-python",
   "name": "python",
   "nbconvert_exporter": "python",
   "pygments_lexer": "ipython3",
   "version": "3.10.9 (tags/v3.10.9:1dd9be6, Dec  6 2022, 20:01:21) [MSC v.1934 64 bit (AMD64)]"
  },
  "orig_nbformat": 4,
  "vscode": {
   "interpreter": {
    "hash": "26de051ba29f2982a8de78e945f0abaf191376122a1563185a90213a26c5da77"
   }
  }
 },
 "nbformat": 4,
 "nbformat_minor": 2
}
