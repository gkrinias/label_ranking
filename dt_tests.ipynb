{
 "cells": [
  {
   "cell_type": "code",
   "execution_count": 2,
   "metadata": {},
   "outputs": [],
   "source": [
    "import matplotlib.pyplot as plt\n",
    "from scipy.stats import multivariate_normal\n",
    "from label_ranking import *\n",
    "from massart import *\n",
    "\n",
    "N = 20000\n",
    "d = 10  # data dimension\n",
    "k = 5  # labels\n",
    "epsilon = 0.3  # upper bound for classification error\n",
    "delta = 0.4  # 1 - delta is the confidence\n",
    "eta_max = 0.1\n",
    "\n",
    "D = multivariate_normal(mean=np.zeros(d), cov=np.identity(d))  # distribution\n",
    "\n",
    "W_opt = np.random.rand(k, d)\n",
    "\n",
    "X_train = D.rvs(size=N)\n",
    "\n",
    "R_train_ground_true = ground_truth_permutations(X_train, W_opt)\n",
    "P_train_ground_true = np.array([np.argsort(ranking) for ranking in R_train_ground_true])\n",
    "\n",
    "R_train = np.array([addNoise(y, eta_max) for y in R_train_ground_true])\n",
    "P_train = np.array([np.argsort(ranking) for ranking in R_train])"
   ]
  },
  {
   "cell_type": "code",
   "execution_count": 3,
   "metadata": {},
   "outputs": [
    {
     "data": {
      "text/plain": [
       "5"
      ]
     },
     "execution_count": 3,
     "metadata": {},
     "output_type": "execute_result"
    }
   ],
   "source": [
    "P_train.shape[1]"
   ]
  },
  {
   "cell_type": "code",
   "execution_count": 4,
   "metadata": {},
   "outputs": [],
   "source": [
    "from sklearn.tree import DecisionTreeRegressor\n",
    "from sklearn.ensemble import RandomForestRegressor\n",
    "\n",
    "DTR = [DecisionTreeRegressor().fit(X_train, P_train[:, label]) for label in range(k)]\n",
    "RFR = [RandomForestRegressor().fit(X_train, P_train[:, label]) for label in range(k)]"
   ]
  },
  {
   "cell_type": "code",
   "execution_count": 5,
   "metadata": {},
   "outputs": [],
   "source": [
    "X_test = D.rvs(size=10000)\n",
    "\n",
    "R_test_ground_true = ground_truth_permutations(X_test, W_opt)\n",
    "P_test_ground_true = np.array([np.argsort(ranking) for ranking in R_test_ground_true])"
   ]
  },
  {
   "cell_type": "code",
   "execution_count": 6,
   "metadata": {},
   "outputs": [],
   "source": [
    "Y_pred_DTR = np.array([DTR[label].predict(X_test) for label in range(k)]).T\n",
    "Y_pred_RFR = np.array([RFR[label].predict(X_test) for label in range(k)]).T"
   ]
  },
  {
   "cell_type": "code",
   "execution_count": 7,
   "metadata": {},
   "outputs": [],
   "source": [
    "R_pred_DTR = np.argsort(Y_pred_DTR, axis=1)\n",
    "R_pred_RFR = np.argsort(Y_pred_RFR, axis=1)"
   ]
  },
  {
   "cell_type": "code",
   "execution_count": 8,
   "metadata": {},
   "outputs": [],
   "source": [
    "# P_pred_DTR = np.array([np.argsort(ranking) for ranking in R_pred_DTR])\n",
    "# P_pred_RFR = np.array([np.argsort(ranking) for ranking in R_pred_RFR])\n",
    "\n",
    "P_pred_DTR = np.argsort(R_pred_DTR, axis=1)\n",
    "P_pred_RFR = np.argsort(R_pred_RFR, axis=1)"
   ]
  },
  {
   "cell_type": "code",
   "execution_count": 9,
   "metadata": {},
   "outputs": [
    {
     "data": {
      "text/plain": [
       "array([[4, 1, 3, 0, 2],\n",
       "       [2, 0, 3, 4, 1],\n",
       "       [4, 2, 0, 1, 3],\n",
       "       ...,\n",
       "       [1, 2, 3, 4, 0],\n",
       "       [1, 3, 2, 0, 4],\n",
       "       [2, 0, 1, 3, 4]], dtype=int64)"
      ]
     },
     "execution_count": 9,
     "metadata": {},
     "output_type": "execute_result"
    }
   ],
   "source": [
    "P_pred_DTR"
   ]
  },
  {
   "cell_type": "code",
   "execution_count": 10,
   "metadata": {},
   "outputs": [],
   "source": [
    "def acc(p1, p2):\n",
    "  assert len(p1) == len(p2)\n",
    "  k = len(p1)\n",
    "  goodPairs = 0\n",
    "  for (i, j) in combinations(range(k), 2):\n",
    "    if (p1[i] - p1[j])*(p2[i] - p2[j]) > 0: goodPairs += 1\n",
    "  return 2*goodPairs/k/(k-1)"
   ]
  },
  {
   "cell_type": "code",
   "execution_count": 11,
   "metadata": {},
   "outputs": [],
   "source": [
    "from scipy.stats import kendalltau"
   ]
  },
  {
   "cell_type": "code",
   "execution_count": 12,
   "metadata": {},
   "outputs": [
    {
     "name": "stdout",
     "output_type": "stream",
     "text": [
      "Decision tree regressor average normalized KT distance: 0.7986000000000001\n",
      "Random forest regressor average normalized KT distance: 0.9304\n"
     ]
    }
   ],
   "source": [
    "avg_KTdist_DTR = np.mean([acc(P_pred_DTR[i], P_test_ground_true[i]) for i in range(len(P_pred_DTR))])\n",
    "avg_KTdist_RFR = np.mean([acc(P_pred_RFR[i], P_test_ground_true[i]) for i in range(len(P_pred_RFR))])\n",
    "\n",
    "avg_KTdist_DTR2 = np.mean([acc(P_pred_DTR[i], P_test_ground_true[i]) for i in range(len(P_pred_DTR))])\n",
    "avg_KTdist_RFR2 = np.mean([acc(P_pred_RFR[i], P_test_ground_true[i]) for i in range(len(P_pred_RFR))])\n",
    "\n",
    "print(\"Decision tree regressor average normalized KT distance:\", avg_KTdist_DTR)\n",
    "print(\"Random forest regressor average normalized KT distance:\", avg_KTdist_RFR)"
   ]
  },
  {
   "cell_type": "code",
   "execution_count": 13,
   "metadata": {},
   "outputs": [],
   "source": [
    "from lr_decision_trees import Regressor_KTDistance"
   ]
  },
  {
   "cell_type": "code",
   "execution_count": 14,
   "metadata": {},
   "outputs": [
    {
     "name": "stdout",
     "output_type": "stream",
     "text": [
      "Decision tree regressor average normalized KT distance: 0.8004800000000001\n"
     ]
    }
   ],
   "source": [
    "SC = Regressor_KTDistance(X_train, P_train, X_test, P_test_ground_true)\n",
    "# avg_KTdist_DTR = np.mean([acc(pr[i], P_test_ground_true[i]) for i in range(len(pr))])\n",
    "print(\"Decision tree regressor average normalized KT distance:\", SC)"
   ]
  },
  {
   "cell_type": "code",
   "execution_count": 15,
   "metadata": {},
   "outputs": [],
   "source": [
    "# Regressor_KTDistance(X_train, P_train, X_test, P_test_ground_true, RandomForestRegressor())"
   ]
  }
 ],
 "metadata": {
  "kernelspec": {
   "display_name": "Python 3",
   "language": "python",
   "name": "python3"
  },
  "language_info": {
   "codemirror_mode": {
    "name": "ipython",
    "version": 3
   },
   "file_extension": ".py",
   "mimetype": "text/x-python",
   "name": "python",
   "nbconvert_exporter": "python",
   "pygments_lexer": "ipython3",
   "version": "3.10.8"
  },
  "orig_nbformat": 4,
  "vscode": {
   "interpreter": {
    "hash": "26de051ba29f2982a8de78e945f0abaf191376122a1563185a90213a26c5da77"
   }
  }
 },
 "nbformat": 4,
 "nbformat_minor": 2
}
