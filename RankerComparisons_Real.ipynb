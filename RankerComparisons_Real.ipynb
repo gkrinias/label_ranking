{
 "cells": [
  {
   "cell_type": "code",
   "execution_count": 1,
   "metadata": {},
   "outputs": [],
   "source": [
    "import pickle\n",
    "from sklearn.model_selection import RepeatedKFold\n",
    "from LabelRanking import *\n",
    "import numpy as np"
   ]
  },
  {
   "cell_type": "code",
   "execution_count": 2,
   "metadata": {},
   "outputs": [],
   "source": [
    "dir = 'REAL'"
   ]
  },
  {
   "cell_type": "code",
   "execution_count": 3,
   "metadata": {},
   "outputs": [],
   "source": [
    "import pandas as pd\n",
    "\n",
    "datasets = [\n",
    "  'authorship',\n",
    "  'bodyfat',\n",
    "  'calhousing',\n",
    "  'cold',\n",
    "  'cpu-small',\n",
    "  'diau',\n",
    "  'dtt',\n",
    "  'elevators',\n",
    "  'fried',\n",
    "  'glass',\n",
    "  'heat',\n",
    "  'housing',\n",
    "  'iris',\n",
    "  'pendigits',\n",
    "  'segment',\n",
    "  'spo',\n",
    "  'stock',\n",
    "  'vehicle',\n",
    "  'vowel',\n",
    "  'wine',\n",
    "  'wisconsin'\n",
    "]"
   ]
  },
  {
   "cell_type": "code",
   "execution_count": null,
   "metadata": {},
   "outputs": [],
   "source": [
    "results = {}\n",
    "\n",
    "for dataset_name in datasets:\n",
    "  dataset = pd.read_csv(f'LR_DATASETS/{dataset_name}.txt')\n",
    "\n",
    "  X = dataset.drop(columns=dataset.loc[:, 'ranking':].columns).to_numpy()\n",
    "  P = dataset.drop(columns=dataset.loc[:, :'ranking'].columns).to_numpy().astype('int')\n",
    "\n",
    "  rkf = RepeatedKFold(n_splits=10, n_repeats=5, random_state=42)\n",
    "  \n",
    "  KTcorr = []\n",
    "\n",
    "  for train, test in rkf.split(X):\n",
    "    X_train, X_test, P_train, P_test = X[train], X[test], P[train], P[test]\n",
    "    clf = LabelwiseLabelRanking('Linear', dict(n_jobs=-1)).fit(X_train, P_train)\n",
    "    preds = clf.predict(X_test)\n",
    "    res = mean_KTcorrelation(P_test, preds)\n",
    "    KTcorr.append(res)\n",
    "\n",
    "  results[dataset_name] = [np.mean(KTcorr), np.std(KTcorr)]\n",
    "\n",
    "with open(f'results/{dir}/labelwise_lr.pickle', 'wb') as handle: pickle.dump(results, handle, protocol=pickle.HIGHEST_PROTOCOL)\n",
    "\n",
    "results"
   ]
  },
  {
   "cell_type": "code",
   "execution_count": null,
   "metadata": {},
   "outputs": [],
   "source": [
    "with open(f'results/REAL/labelwise_lr.pickle', 'rb') as handle: k = pickle.load(handle)\n",
    "\n",
    "v = np.round(list(labelwise_lr.values()), 3)\n",
    "dict(zip(k.keys(), v))"
   ]
  },
  {
   "cell_type": "code",
   "execution_count": null,
   "metadata": {},
   "outputs": [],
   "source": [
    "results = {}\n",
    "\n",
    "for dataset_name in datasets:\n",
    "  dataset = pd.read_csv(f'LR_DATASETS/{dataset_name}.txt')\n",
    "\n",
    "  X = dataset.drop(columns=dataset.loc[:, 'ranking':].columns).to_numpy()\n",
    "  P = dataset.drop(columns=dataset.loc[:, :'ranking'].columns).to_numpy().astype('int')\n",
    "\n",
    "  rkf = RepeatedKFold(n_splits=10, n_repeats=5, random_state=42)\n",
    "  \n",
    "  KTcorr = []\n",
    "\n",
    "  for train, test in rkf.split(X):\n",
    "    X_train, X_test, P_train, P_test = X[train], X[test], P[train], P[test]\n",
    "    clf = LabelwiseLabelRanking('Decision Tree', dict(criterion='squared_error', max_features=None)).fit(X_train, P_train)\n",
    "    preds = clf.predict(X_test)\n",
    "    res = mean_KTcorrelation(P_test, preds)\n",
    "    KTcorr.append(res)\n",
    "\n",
    "  results[dataset_name] = [np.mean(KTcorr), np.std(KTcorr)]\n",
    "\n",
    "with open(f'results/{dir}/labelwise_dt.pickle', 'wb') as handle: pickle.dump(results, handle, protocol=pickle.HIGHEST_PROTOCOL)\n",
    "\n",
    "results"
   ]
  },
  {
   "cell_type": "code",
   "execution_count": null,
   "metadata": {},
   "outputs": [],
   "source": [
    "with open(f'results/REAL/labelwise_dt.pickle', 'rb') as handle: k = pickle.load(handle)\n",
    "\n",
    "v = np.round(list(k.values()), 3)\n",
    "dict(zip(k.keys(), v))"
   ]
  },
  {
   "cell_type": "code",
   "execution_count": null,
   "metadata": {},
   "outputs": [],
   "source": [
    "results = {}\n",
    "\n",
    "for dataset_name in datasets:\n",
    "  dataset = pd.read_csv(f'LR_DATASETS/{dataset_name}.txt')\n",
    "\n",
    "  X = dataset.drop(columns=dataset.loc[:, 'ranking':].columns).to_numpy()\n",
    "  P = dataset.drop(columns=dataset.loc[:, :'ranking'].columns).to_numpy().astype('int')\n",
    "\n",
    "  rkf = RepeatedKFold(n_splits=10, n_repeats=5, random_state=42)\n",
    "  \n",
    "  KTcorr = []\n",
    "\n",
    "  for train, test in rkf.split(X):\n",
    "    X_train, X_test, P_train, P_test = X[train], X[test], P[train], P[test]\n",
    "    clf = LabelwiseLabelRanking('Random Forest', dict(n_jobs=-1)).fit(X_train, P_train)\n",
    "    preds = clf.predict(X_test)\n",
    "    res = mean_KTcorrelation(P_test, preds)\n",
    "    KTcorr.append(res)\n",
    "\n",
    "  results[dataset_name] = [np.mean(KTcorr), np.std(KTcorr)]\n",
    "\n",
    "with open(f'results/{dir}/labelwise_rf.pickle', 'wb') as handle: pickle.dump(results, handle, protocol=pickle.HIGHEST_PROTOCOL)\n",
    "\n",
    "results"
   ]
  },
  {
   "cell_type": "code",
   "execution_count": null,
   "metadata": {},
   "outputs": [],
   "source": [
    "with open(f'results/REAL/labelwise_rf.pickle', 'rb') as handle: k = pickle.load(handle)\n",
    "\n",
    "v = np.round(list(k.values()), 3)\n",
    "dict(zip(k.keys(), v))"
   ]
  },
  {
   "cell_type": "code",
   "execution_count": null,
   "metadata": {},
   "outputs": [],
   "source": [
    "results = {}\n",
    "\n",
    "for dataset_name in datasets:\n",
    "  dataset = pd.read_csv(f'LR_DATASETS/{dataset_name}.txt')\n",
    "\n",
    "  X = dataset.drop(columns=dataset.loc[:, 'ranking':].columns).to_numpy()\n",
    "  P = dataset.drop(columns=dataset.loc[:, :'ranking'].columns).to_numpy().astype('int')\n",
    "\n",
    "  rkf = RepeatedKFold(n_splits=10, n_repeats=5, random_state=42)\n",
    "  \n",
    "  KTcorr = []\n",
    "\n",
    "  for train, test in rkf.split(X):\n",
    "    X_train, X_test, P_train, P_test = X[train], X[test], P[train], P[test]\n",
    "    clf = PairwiseLabelRanking('Decision Tree', dict(criterion='gini', max_features=None), aggregation='tournament').fit(X_train, P_train)\n",
    "    preds = clf.predict(X_test)\n",
    "    res = mean_KTcorrelation(P_test, preds)\n",
    "    KTcorr.append(res)\n",
    "\n",
    "  results[dataset_name] = [np.mean(KTcorr), np.std(KTcorr)]\n",
    "\n",
    "with open(f'results/{dir}/pairwise_dt.pickle', 'wb') as handle: pickle.dump(results, handle, protocol=pickle.HIGHEST_PROTOCOL)\n",
    "\n",
    "results"
   ]
  },
  {
   "cell_type": "code",
   "execution_count": null,
   "metadata": {},
   "outputs": [],
   "source": [
    "with open(f'results/REAL/pairwise_dt.pickle', 'rb') as handle: k = pickle.load(handle)\n",
    "\n",
    "v = np.round(list(k.values()), 3)\n",
    "dict(zip(k.keys(), v))"
   ]
  },
  {
   "cell_type": "code",
   "execution_count": null,
   "metadata": {},
   "outputs": [],
   "source": [
    "results = {}\n",
    "\n",
    "for dataset_name in datasets:\n",
    "  dataset = pd.read_csv(f'LR_DATASETS/{dataset_name}.txt')\n",
    "\n",
    "  X = dataset.drop(columns=dataset.loc[:, 'ranking':].columns).to_numpy()\n",
    "  P = dataset.drop(columns=dataset.loc[:, :'ranking'].columns).to_numpy().astype('int')\n",
    "\n",
    "  rkf = RepeatedKFold(n_splits=10, n_repeats=5, random_state=42)\n",
    "  \n",
    "  KTcorr = []\n",
    "\n",
    "  for train, test in rkf.split(X):\n",
    "    X_train, X_test, P_train, P_test = X[train], X[test], P[train], P[test]\n",
    "    clf = PairwiseLabelRanking('Random Forest', dict(n_jobs=-1), aggregation='tournament').fit(X_train, P_train)\n",
    "    preds = clf.predict(X_test)\n",
    "    res = mean_KTcorrelation(P_test, preds)\n",
    "    KTcorr.append(res)\n",
    "\n",
    "  results[dataset_name] = [np.mean(KTcorr), np.std(KTcorr)]\n",
    "\n",
    "with open(f'results/{dir}/pairwise_rf.pickle', 'wb') as handle: pickle.dump(results, handle, protocol=pickle.HIGHEST_PROTOCOL)\n",
    "\n",
    "results"
   ]
  },
  {
   "cell_type": "code",
   "execution_count": null,
   "metadata": {},
   "outputs": [],
   "source": [
    "with open(f'results/REAL/pairwise_rf.pickle', 'rb') as handle: k = pickle.load(handle)\n",
    "\n",
    "v = np.round(list(k.values()), 3)\n",
    "dict(zip(k.keys(), v))"
   ]
  },
  {
   "cell_type": "code",
   "execution_count": 4,
   "metadata": {},
   "outputs": [
    {
     "data": {
      "text/plain": [
       "{'cold': [0.05696158783450187, 0.03525338353116379]}"
      ]
     },
     "execution_count": 4,
     "metadata": {},
     "output_type": "execute_result"
    }
   ],
   "source": [
    "results = {}\n",
    "\n",
    "for dataset_name in ['cold']:\n",
    "  dataset = pd.read_csv(f'LR_DATASETS/{dataset_name}.txt')\n",
    "\n",
    "  X = dataset.drop(columns=dataset.loc[:, 'ranking':].columns).to_numpy()\n",
    "  P = dataset.drop(columns=dataset.loc[:, :'ranking'].columns).to_numpy().astype('int')\n",
    "\n",
    "  rkf = RepeatedKFold(n_splits=10, n_repeats=1, random_state=42)\n",
    "  \n",
    "  KTcorr = []\n",
    "\n",
    "  for train, test in rkf.split(X):\n",
    "    X_train, X_test, P_train, P_test = X[train], X[test], P[train], P[test]\n",
    "    clf = PairwiseLabelRanking('Homogeneous Halfspace', dict(beta=0.005, sigma=0.1), aggregation='tournament')\n",
    "    clf.fit(X_train, P_train)\n",
    "    preds = clf.predict(X_test)\n",
    "    res = mean_KTcorrelation(P_test, preds)\n",
    "    KTcorr.append(res)\n",
    "\n",
    "  results[dataset_name] = [np.mean(KTcorr), np.std(KTcorr)]\n",
    "\n",
    "# with open(f'results/{dir}/pairwise_rf.pickle', 'wb') as handle: pickle.dump(results, handle, protocol=pickle.HIGHEST_PROTOCOL)\n",
    "\n",
    "results"
   ]
  },
  {
   "cell_type": "code",
   "execution_count": 20,
   "metadata": {},
   "outputs": [
    {
     "data": {
      "text/plain": [
       "{'calhousing': [0.16920219638242892, 0.010727952075855056]}"
      ]
     },
     "execution_count": 20,
     "metadata": {},
     "output_type": "execute_result"
    }
   ],
   "source": [
    "results = {}\n",
    "\n",
    "hh_params = {\n",
    "  'iris': dict(beta=0.01, sigma=0.1),\n",
    "  'wine': dict(beta=0.012, sigma=0.2),\n",
    "  'wisconsin': dict(beta=0.01, sigma=0.1),\n",
    "  'vowel': dict(beta=0.012, sigma=0.1),\n",
    "  'cold': dict(beta=0.012, sigma=0.1)\n",
    "}\n",
    "\n",
    "for dataset_name in ['calhousing']:\n",
    "  dataset = pd.read_csv(f'LR_DATASETS/{dataset_name}.txt')\n",
    "\n",
    "  X = dataset.drop(columns=dataset.loc[:, 'ranking':].columns).to_numpy()\n",
    "  P = dataset.drop(columns=dataset.loc[:, :'ranking'].columns).to_numpy().astype('int')\n",
    "\n",
    "  rkf = RepeatedKFold(n_splits=10, n_repeats=1, random_state=42)\n",
    "  \n",
    "  KTcorr = []\n",
    "\n",
    "  for train, test in rkf.split(X):\n",
    "    X_train, X_test, P_train, P_test = X[train], X[test], P[train], P[test]\n",
    "    clf = PairwiseLabelRanking('Homogeneous Halfspace', dict(beta=0.01, sigma=0.1), aggregation='tournament')\n",
    "    # clf = LabelwiseLabelRanking('Linear', dict(n_jobs=-1))\n",
    "    clf.fit(X_train, P_train)\n",
    "    preds = clf.predict(X_test)\n",
    "    res = mean_KTcorrelation(P_test, preds)\n",
    "    KTcorr.append(res)\n",
    "\n",
    "  results[dataset_name] = [np.mean(KTcorr), np.std(KTcorr)]\n",
    "\n",
    "# with open(f'results/{dir}/pairwise_rf.pickle', 'wb') as handle: pickle.dump(results, handle, protocol=pickle.HIGHEST_PROTOCOL)\n",
    "\n",
    "results"
   ]
  }
 ],
 "metadata": {
  "kernelspec": {
   "display_name": "Python 3",
   "language": "python",
   "name": "python3"
  },
  "language_info": {
   "codemirror_mode": {
    "name": "ipython",
    "version": 3
   },
   "file_extension": ".py",
   "mimetype": "text/x-python",
   "name": "python",
   "nbconvert_exporter": "python",
   "pygments_lexer": "ipython3",
   "version": "3.11.4"
  },
  "orig_nbformat": 4,
  "vscode": {
   "interpreter": {
    "hash": "26de051ba29f2982a8de78e945f0abaf191376122a1563185a90213a26c5da77"
   }
  }
 },
 "nbformat": 4,
 "nbformat_minor": 2
}
