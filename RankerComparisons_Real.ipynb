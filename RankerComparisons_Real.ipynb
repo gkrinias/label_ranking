{
 "cells": [
  {
   "cell_type": "code",
   "execution_count": 30,
   "metadata": {},
   "outputs": [],
   "source": [
    "from scipy.stats import multivariate_normal\n",
    "from massart import addNoise, ground_truth_permutations, flip_ranking, massart_noisy_ranking\n",
    "from LabelRankers import *\n",
    "import pickle"
   ]
  },
  {
   "cell_type": "code",
   "execution_count": 110,
   "metadata": {},
   "outputs": [],
   "source": [
    "import pandas as pd\n",
    "from sklearn.model_selection import train_test_split\n",
    "\n",
    "dataset = pd.read_csv('LR_DATASETS/elevators.txt')\n",
    "\n",
    "X = dataset.drop(columns=dataset.loc[:, 'ranking':].columns).to_numpy()\n",
    "\n",
    "P = dataset.drop(columns=dataset.loc[:, :'ranking'].columns).to_numpy().astype('int')\n",
    "\n",
    "X_train, X_test, P_train, P_test = train_test_split(X, P, test_size=0.2)"
   ]
  },
  {
   "cell_type": "code",
   "execution_count": 111,
   "metadata": {},
   "outputs": [],
   "source": [
    "d = X.shape[1]\n",
    "k = P.shape[1]"
   ]
  },
  {
   "attachments": {},
   "cell_type": "markdown",
   "metadata": {},
   "source": [
    "##### Train models using data with RCN"
   ]
  },
  {
   "cell_type": "code",
   "execution_count": 112,
   "metadata": {},
   "outputs": [],
   "source": [
    "LR_DT_R = {} # Decision Tree Regression\n",
    "LR_DT_C = {} # Decision Tree Classification\n",
    "LR_RF_R = {} # Random Forest Regression\n",
    "LR_RF_C = {} # Random Forest Classification\n",
    "LR_HH_C = {} # Homogeneous Halfspace Classification\n",
    "\n",
    "LR_DT_R = LabelwiseDecisionTreeLR().fit(X_train, P_train)\n",
    "LR_DT_C = PairwiseDecisionTreeLR().fit(X_train, P_train)\n",
    "LR_RF_R = LabelwiseRandomForestLR().fit(X_train, P_train)\n",
    "LR_RF_C = PairwiseRandomForestLR().fit(X_train, P_train)\n",
    "LR_HH_C = PairwiseHalfspaceLR(0.005, 0.1, 0.8).fit(X_train, P_train)"
   ]
  },
  {
   "attachments": {},
   "cell_type": "markdown",
   "metadata": {},
   "source": [
    "##### Predict rankings for all classifiers and etas"
   ]
  },
  {
   "cell_type": "code",
   "execution_count": 113,
   "metadata": {},
   "outputs": [],
   "source": [
    "LR_DT_R_preds = LR_DT_R.predict(X_test)\n",
    "LR_DT_C_preds = LR_DT_C.predict(X_test)\n",
    "LR_RF_R_preds = LR_RF_R.predict(X_test)\n",
    "LR_RF_C_preds = LR_RF_C.predict(X_test)\n",
    "LR_HH_C_preds = LR_HH_C.predict(X_test)"
   ]
  },
  {
   "attachments": {},
   "cell_type": "markdown",
   "metadata": {},
   "source": [
    "##### Find scores for all classifiers and etas"
   ]
  },
  {
   "cell_type": "code",
   "execution_count": 114,
   "metadata": {},
   "outputs": [],
   "source": [
    "LR_DT_R_KT_corr = mean_kendall_rank_corr(P_test, LR_DT_R_preds)\n",
    "LR_DT_C_KT_corr = mean_kendall_rank_corr(P_test, LR_DT_C_preds)\n",
    "LR_RF_R_KT_corr = mean_kendall_rank_corr(P_test, LR_RF_R_preds)\n",
    "LR_RF_C_KT_corr = mean_kendall_rank_corr(P_test, LR_RF_C_preds)\n",
    "LR_HH_C_KT_corr = mean_kendall_rank_corr(P_test, LR_HH_C_preds)"
   ]
  },
  {
   "cell_type": "code",
   "execution_count": 115,
   "metadata": {},
   "outputs": [
    {
     "name": "stdout",
     "output_type": "stream",
     "text": [
      "0.6812751004016063\n",
      "0.6929886211512719\n",
      "0.784119812583668\n",
      "0.8071285140562249\n",
      "0.5867469879518072\n"
     ]
    }
   ],
   "source": [
    "print(LR_DT_R_KT_corr)\n",
    "print(LR_DT_C_KT_corr)\n",
    "print(LR_RF_R_KT_corr)\n",
    "print(LR_RF_C_KT_corr)\n",
    "print(LR_HH_C_KT_corr)"
   ]
  }
 ],
 "metadata": {
  "kernelspec": {
   "display_name": "Python 3",
   "language": "python",
   "name": "python3"
  },
  "language_info": {
   "codemirror_mode": {
    "name": "ipython",
    "version": 3
   },
   "file_extension": ".py",
   "mimetype": "text/x-python",
   "name": "python",
   "nbconvert_exporter": "python",
   "pygments_lexer": "ipython3",
   "version": "3.11.2"
  },
  "orig_nbformat": 4,
  "vscode": {
   "interpreter": {
    "hash": "26de051ba29f2982a8de78e945f0abaf191376122a1563185a90213a26c5da77"
   }
  }
 },
 "nbformat": 4,
 "nbformat_minor": 2
}
