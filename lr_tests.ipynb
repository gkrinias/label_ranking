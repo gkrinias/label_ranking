{
 "cells": [
  {
   "cell_type": "code",
   "execution_count": null,
   "metadata": {},
   "outputs": [],
   "source": [
    "import matplotlib.pyplot as plt\n",
    "from scipy.stats import multivariate_normal\n",
    "from label_ranking import *\n",
    "from massart import *\n",
    "\n",
    "N = 10000000\n",
    "d = 10  # data dimension\n",
    "k = 5  # labels\n",
    "epsilon = 0.3  # upper bound for classification error\n",
    "delta = 0.3  # 1 - delta is the confidence\n",
    "eta_max = 0\n",
    "\n",
    "D = multivariate_normal(mean=np.zeros(d), cov=np.identity(d))  # distribution\n",
    "W_opt = np.random.rand(k, d)\n",
    "print(W_opt)"
   ]
  },
  {
   "cell_type": "code",
   "execution_count": null,
   "metadata": {},
   "outputs": [],
   "source": [
    "X_train = D.rvs(size=N)\n",
    "P_train_ground_true = ground_truth_permutations(X_train, W_opt)\n",
    "P_train = np.array([addNoise(y, eta_max) for y in P_train_ground_true])\n",
    "\n",
    "V = pairwiseHalfspaces(\n",
    "  X=X_train,\n",
    "  P=P_train,\n",
    "  epsilon=epsilon,\n",
    "  delta=delta,\n",
    "  eta_max=eta_max,\n",
    "  constants=(1e-5, 1, 1, 10)\n",
    ")\n",
    "\n",
    "# Test accuracy of output halfspace\n",
    "print(np.mean([ranking_accuracy(X_train[i], P_train_ground_true[i], V) for i in range(1000)]))"
   ]
  },
  {
   "cell_type": "code",
   "execution_count": null,
   "metadata": {},
   "outputs": [],
   "source": [
    "X_train = D.rvs(size=N)\n",
    "P_train_ground_true = ground_truth_permutations(X_train, W_opt)\n",
    "P_train = P_train_ground_true #np.array([addNoise(y, eta_max) for y in P_train_ground_true])\n",
    "\n",
    "\n",
    "V = pairwiseHalfspaces(\n",
    "  X=X_train,\n",
    "  P=P_train,\n",
    "  epsilon=epsilon,\n",
    "  delta=delta,\n",
    "  eta_max=0, # eta_max\n",
    "  constants=(1e-4, 1, 1, 10)\n",
    ")\n",
    "\n",
    "# Test accuracy of output halfspace\n",
    "print(np.mean([ranking_accuracy(X_train[i], P_train_ground_true[i], V) for i in range(1000)]))"
   ]
  }
 ],
 "metadata": {
  "kernelspec": {
   "display_name": "Python 3.10.8 64-bit",
   "language": "python",
   "name": "python3"
  },
  "language_info": {
   "codemirror_mode": {
    "name": "ipython",
    "version": 3
   },
   "file_extension": ".py",
   "mimetype": "text/x-python",
   "name": "python",
   "nbconvert_exporter": "python",
   "pygments_lexer": "ipython3",
   "version": "3.10.8"
  },
  "orig_nbformat": 4,
  "vscode": {
   "interpreter": {
    "hash": "26de051ba29f2982a8de78e945f0abaf191376122a1563185a90213a26c5da77"
   }
  }
 },
 "nbformat": 4,
 "nbformat_minor": 2
}
