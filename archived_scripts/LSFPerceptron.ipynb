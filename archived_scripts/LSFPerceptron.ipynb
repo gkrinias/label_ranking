{
 "cells": [
  {
   "cell_type": "code",
   "execution_count": 22,
   "metadata": {},
   "outputs": [],
   "source": [
    "from scipy.stats import multivariate_normal\n",
    "from LabelRanking import *\n",
    "from tqdm import tqdm"
   ]
  },
  {
   "cell_type": "code",
   "execution_count": 23,
   "metadata": {},
   "outputs": [],
   "source": [
    "d = 10  # data dimension\n",
    "k = 5  # labels\n",
    "\n",
    "# Feature vectors distribution\n",
    "D = multivariate_normal(mean=np.zeros(d), cov=np.identity(d))\n",
    "\n",
    "# Linear Sorting Function\n",
    "W = np.random.rand(k, d)\n",
    "\n",
    "# Train data\n",
    "X_train = D.rvs(size=1000)\n",
    "\n",
    "R_train = LinearSortingFunction(X_train, W)\n",
    "P_train = np.argsort(R_train, axis=1)"
   ]
  },
  {
   "cell_type": "code",
   "execution_count": 24,
   "metadata": {},
   "outputs": [],
   "source": [
    "W_ = np.zeros((k, d))"
   ]
  },
  {
   "cell_type": "code",
   "execution_count": 29,
   "metadata": {},
   "outputs": [
    {
     "name": "stderr",
     "output_type": "stream",
     "text": [
      "100%|██████████| 100/100 [00:06<00:00, 15.88it/s]\n"
     ]
    }
   ],
   "source": [
    "for iterations in tqdm(range(100)):\n",
    "  for (x, p) in zip(X_train, P_train):\n",
    "    for i in range(k):\n",
    "      for j in range(k):\n",
    "        if (p[j] - p[i])*np.dot(x, W[i] - W[j]) <= 0 and i != j:\n",
    "          W_[i] += (p[j] - p[i])*x"
   ]
  },
  {
   "cell_type": "code",
   "execution_count": 30,
   "metadata": {},
   "outputs": [],
   "source": [
    "X_test = D.rvs(size=1000)\n",
    "R_test = LinearSortingFunction(X_test, W)\n",
    "P_test = np.argsort(R_test, axis=1)\n",
    "\n",
    "R_pred = LinearSortingFunction(X_test, W_)\n",
    "P_pred = np.argsort(R_pred, axis=1)"
   ]
  },
  {
   "cell_type": "code",
   "execution_count": 31,
   "metadata": {},
   "outputs": [
    {
     "name": "stdout",
     "output_type": "stream",
     "text": [
      "-0.015800000000000036\n"
     ]
    }
   ],
   "source": [
    "print(mean_KTcorrelation(P_test, P_pred))"
   ]
  }
 ],
 "metadata": {
  "kernelspec": {
   "display_name": "Python 3",
   "language": "python",
   "name": "python3"
  },
  "language_info": {
   "codemirror_mode": {
    "name": "ipython",
    "version": 3
   },
   "file_extension": ".py",
   "mimetype": "text/x-python",
   "name": "python",
   "nbconvert_exporter": "python",
   "pygments_lexer": "ipython3",
   "version": "3.11.2"
  },
  "orig_nbformat": 4
 },
 "nbformat": 4,
 "nbformat_minor": 2
}
